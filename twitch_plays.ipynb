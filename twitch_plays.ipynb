{
 "metadata": {
  "language_info": {
   "codemirror_mode": {
    "name": "ipython",
    "version": 3
   },
   "file_extension": ".py",
   "mimetype": "text/x-python",
   "name": "python",
   "nbconvert_exporter": "python",
   "pygments_lexer": "ipython3",
   "version": "3.8.2"
  },
  "orig_nbformat": 2,
  "kernelspec": {
   "name": "python382jvsc74a57bd0a4bbb230c0b4d749504e9e5b6df0554e92525e59144813c45e4550735073a0dc",
   "display_name": "Python 3.8.2 64-bit ('PlayEnv': conda)"
  }
 },
 "nbformat": 4,
 "nbformat_minor": 2,
 "cells": [
  {
   "cell_type": "code",
   "execution_count": null,
   "metadata": {},
   "outputs": [],
   "source": [
    "import socket\n",
    "import logging\n",
    "import datetime as dt\n",
    "import threading\n",
    "import time\n",
    "from ahk import AHK\n",
    "from config import TOKEN\n"
   ]
  },
  {
   "cell_type": "code",
   "execution_count": 19,
   "metadata": {},
   "outputs": [],
   "source": [
    "SERVER = 'irc.chat.twitch.tv'\n",
    "PORT = 6667\n",
    "NICKNAME = 'tboss98_'\n",
    "ENCODING = 'utf-8'\n",
    "CHANNEL = 'tboss98_'\n",
    "# CHANNEL = 'lobosjr'\n",
    "\n",
    "message = \"\"\n",
    "user = \"\"\n",
    "\n",
    "ahk=AHK()"
   ]
  },
  {
   "cell_type": "code",
   "execution_count": null,
   "metadata": {},
   "outputs": [],
   "source": [
    "#make an instance of socket\n",
    "sock = socket.socket()\n",
    "# make connection using the server and port\n",
    "sock.connect((SERVER,PORT))\n",
    "#  Send message for authentication to twitch channel\n",
    "sock.send((\t\"PASS \" + TOKEN + \"\\n\" +\n",
    "\t\t\t\"NICK \" + NICKNAME + \"\\n\" +\n",
    "\t\t\t\"JOIN #\" + CHANNEL + \"\\n\").encode(ENCODING))\n",
    "\n"
   ]
  },
  {
   "cell_type": "code",
   "execution_count": null,
   "metadata": {},
   "outputs": [],
   "source": [
    "\n",
    "# configure logging\n",
    "logging.basicConfig(level=logging.INFO,\n",
    "                    format='%(asctime)s — %(message)s',\n",
    "                    datefmt='%Y-%m-%d_%H:%M:%S',\n",
    "                    handlers=[logging.FileHandler(f'{CHANNEL}_chat.log', encoding=ENCODING)])"
   ]
  },
  {
   "cell_type": "code",
   "execution_count": null,
   "metadata": {},
   "outputs": [],
   "source": [
    "\n",
    "# def joinchat(): \n",
    "#     loading = True\n",
    "#     while loading :\n",
    "#         print('waiting to receive initial chat')\n",
    "#         resp=sock.recv(2048).decode(ENCODING)\n",
    "#         logging.info(resp)\n",
    "#         print('------------')\n",
    "#         for line in resp.split('\\n'):\n",
    "#             print(line)\n",
    "#             if(\"End of /NAMES list\" in line):\n",
    "#                 loading = False\n",
    "#                 print(f'Joined stream of{CHANNEL}')\n",
    "#                 break\n",
    "#     print('while loop left')\n",
    "#     print('------------')\n",
    "#     print('------------')\n"
   ]
  },
  {
   "cell_type": "code",
   "execution_count": null,
   "metadata": {},
   "outputs": [],
   "source": [
    "def game():\n",
    "\n",
    "    global message\n",
    "\n",
    "    while True:\n",
    "\n",
    "        if \"up\" == message.lower():\n",
    "            ahk.key_press('up')\n",
    "            message = \"\"\n",
    "\n",
    "        if \"down\" == message.lower():\n",
    "            ahk.key_press('down')\n",
    "            message = \"\"\n",
    "\n",
    "        if \"left\" == message.lower():\n",
    "            ahk.key_press('left')\n",
    "            message = \"\"\n",
    "\n",
    "        if \"right\" == message.lower():\n",
    "            ahk.key_press('right')\n",
    "            message = \"\"\n",
    "\n",
    "        if \"a\" == message.lower():\n",
    "            ahk.key_press('z')\n",
    "            message = \"\"\n",
    "\n",
    "        if \"b\" == message.lower():\n",
    "            ahk.key_press('x')\n",
    "            message = \"\"\n",
    "\n",
    "        if \"lb\" == message.lower():\n",
    "            ahk.key_press('a')\n",
    "            message = \"\"\n",
    "\n",
    "        if \"rb\" == message.lower():\n",
    "            ahk.key_press('s')\n",
    "            message = \"\"\n",
    "\n",
    "        if \"select\" == message.lower():\n",
    "            ahk.key_press('d')\n",
    "            message = \"\"\n",
    "\n",
    "        if \"start\" == message.lower():\n",
    "            ahk.key_press('enter')\n",
    "            message = \"\"\n",
    "\n"
   ]
  },
  {
   "cell_type": "code",
   "execution_count": 23,
   "metadata": {},
   "outputs": [],
   "source": [
    "def sendMessage(socket,outMessage):\n",
    "    socket.send(\"PRIVMSG #{} :{}\\r\\n\".format(CHANNEL,outMessage).encode(ENCODING))"
   ]
  },
  {
   "cell_type": "code",
   "execution_count": null,
   "metadata": {},
   "outputs": [],
   "source": [
    "def output_test_function():\n",
    "\n",
    "    global user\n",
    "    global message\n",
    "\n",
    "    while True:\n",
    "        if user == NICKNAME and message.lower() == 'test':\n",
    "            sock.sendMessage(sock,'tBot says you have passed the test')\n",
    "\n",
    "\n",
    "\n"
   ]
  },
  {
   "cell_type": "code",
   "execution_count": null,
   "metadata": {},
   "outputs": [],
   "source": [
    "def readTwitch():\n",
    "\n",
    "    global user\n",
    "    global message\n",
    "\n",
    "    # def sendMessage(socket,outMessage):\n",
    "    #     sock.send(\"PRIVMSG #{} :{}\\r\\n\".format(CHANNEL,outMessage).encode(ENCODING))\n",
    "\n",
    "    def joinchat(): \n",
    "        loading = True\n",
    "        while loading :\n",
    "            print('waiting to receive initial chat')\n",
    "            resp=sock.recv(2048).decode(ENCODING)\n",
    "            logging.info(resp)\n",
    "            print('------------')\n",
    "            for line in resp.split('\\n'):\n",
    "                print(line)\n",
    "                if(\"End of /NAMES list\" in line):\n",
    "                    loading = False\n",
    "                    print(f'Joined stream of{CHANNEL}')\n",
    "                    break\n",
    "        logging.info('end of join chat function')\n",
    "\n",
    "    def getuser(response):\n",
    "        username = response.split('!')[0][1:]\n",
    "        \n",
    "        return username\n",
    "\n",
    "    def getmsg(response):\n",
    "        msg = resp.split(f'PRIVMSG {channel} :')[-1].replace('\\r\\n','')\n",
    "        return msg\n",
    "\n",
    "    joinchat()\n",
    "    while True:\n",
    "        print('waiting for user message')\n",
    "        resp = sock.recv(2048).decode(ENCODING)\n",
    "\n",
    "        if \"PING :tmi.twitch.tv\" in resp:\n",
    "            print('were playing ping pong')   \n",
    "            logging.info('were playing ping pong')\n",
    "            # send a pong\n",
    "            sock.send(\"PONG :tmi.twitch.tv\\r\\n\".encode(ENCODING))\n",
    "        elif len(resp) > 0:\n",
    "            if f'PRIVMSG #{channel} :' in resp:\n",
    "                user = getuser(resp)\n",
    "                message = getmsg(resp)\n",
    "\n"
   ]
  },
  {
   "cell_type": "code",
   "execution_count": null,
   "metadata": {},
   "outputs": [],
   "source": [
    "\n",
    "\n"
   ]
  },
  {
   "cell_type": "code",
   "execution_count": null,
   "metadata": {},
   "outputs": [],
   "source": [
    "sock.close()"
   ]
  },
  {
   "cell_type": "code",
   "execution_count": 21,
   "metadata": {},
   "outputs": [],
   "source": [
    "# basic example of recurssion function that counts to 10\n",
    "\n",
    "def count10(x):\n",
    "    print(\"-----\")\n",
    "    print(\"-----\")\n",
    "    print(x)\n",
    "    x +=1\n",
    "    print(x)\n",
    "    print(\"-----\")\n",
    "    print(\"-----\")\n",
    "    if x < 9:\n",
    "        count10(x)\n",
    "    else:\n",
    "        print(f'congrats the recurssion worked and ended at {x}')\n",
    "        return x\n"
   ]
  },
  {
   "cell_type": "code",
   "execution_count": 22,
   "metadata": {},
   "outputs": [
    {
     "output_type": "stream",
     "name": "stdout",
     "text": [
      "-----\n-----\n0\n1\n-----\n-----\n-----\n-----\n1\n2\n-----\n-----\n-----\n-----\n2\n3\n-----\n-----\n-----\n-----\n3\n4\n-----\n-----\n-----\n-----\n4\n5\n-----\n-----\n-----\n-----\n5\n6\n-----\n-----\n-----\n-----\n6\n7\n-----\n-----\n-----\n-----\n7\n8\n-----\n-----\n-----\n-----\n8\n9\n-----\n-----\ncongrats the recurssion worked and ended at 9\n"
     ]
    }
   ],
   "source": [
    "count10(0)"
   ]
  },
  {
   "cell_type": "code",
   "execution_count": null,
   "metadata": {},
   "outputs": [],
   "source": []
  }
 ]
}